{
 "cells": [
  {
   "cell_type": "code",
   "execution_count": 8,
   "metadata": {},
   "outputs": [
    {
     "name": "stderr",
     "output_type": "stream",
     "text": [
      "WARNING:absl:At this time, the v2.11+ optimizer `tf.keras.optimizers.Adam` runs slowly on M1/M2 Macs, please use the legacy Keras optimizer instead, located at `tf.keras.optimizers.legacy.Adam`.\n",
      "WARNING:absl:There is a known slowdown when using v2.11+ Keras optimizers on M1/M2 Macs. Falling back to the legacy Keras optimizer, i.e., `tf.keras.optimizers.legacy.Adam`.\n"
     ]
    },
    {
     "name": "stdout",
     "output_type": "stream",
     "text": [
      "WARNING:tensorflow:Error in loading the saved optimizer state. As a result, your model is starting with a freshly initialized optimizer.\n"
     ]
    },
    {
     "name": "stderr",
     "output_type": "stream",
     "text": [
      "WARNING:tensorflow:Error in loading the saved optimizer state. As a result, your model is starting with a freshly initialized optimizer.\n"
     ]
    },
    {
     "name": "stdout",
     "output_type": "stream",
     "text": [
      "1/1 [==============================] - 1s 1s/step\n",
      "The predicted class is: CONTROL\n"
     ]
    }
   ],
   "source": [
    "import cv2\n",
    "import numpy as np\n",
    "from PIL import Image\n",
    "from keras.preprocessing import image\n",
    "from keras.models import load_model\n",
    "from keras.applications.efficientnet import preprocess_input, EfficientNetB3\n",
    "\n",
    "# Constants\n",
    "class_folders = ['AD', 'CONTROL', 'PD']\n",
    "INPUT_SIZE_EFFICIENTNET = (150, 150)  # Adjusted image size\n",
    "\n",
    "# Load the EfficientNetB3 model\n",
    "base_model = EfficientNetB3(weights='imagenet', include_top=False, input_shape=(INPUT_SIZE_EFFICIENTNET[0], INPUT_SIZE_EFFICIENTNET[1], 3))\n",
    "model = load_model('efficient_net_B3(2).h5')  # Replace with your EfficientNetB3 model file\n",
    "\n",
    "# Load and preprocess the test image\n",
    "image_path = 'test/PD/PD_307.png'\n",
    "test_image = cv2.imread(image_path)\n",
    "if test_image is not None:\n",
    "    test_image = Image.fromarray(test_image, 'RGB')\n",
    "    # Resize to match the model's expected input size\n",
    "    test_image = test_image.resize((INPUT_SIZE_EFFICIENTNET[0], INPUT_SIZE_EFFICIENTNET[1]))\n",
    "    test_image = np.array(test_image)\n",
    "    test_image = np.expand_dims(test_image, axis=0)\n",
    "    test_image = preprocess_input(test_image)\n",
    "\n",
    "    # Make predictions\n",
    "    predictions = model.predict(test_image)\n",
    "    predicted_class_index = np.argmax(predictions)\n",
    "    predicted_class = class_folders[predicted_class_index]\n",
    "\n",
    "    # Print the result\n",
    "    print(f'The predicted class is: {predicted_class}')\n",
    "else:\n",
    "    print(f'Error reading the test image at path: {image_path}')\n"
   ]
  }
 ],
 "metadata": {
  "kernelspec": {
   "display_name": "mac",
   "language": "python",
   "name": "python3"
  },
  "language_info": {
   "codemirror_mode": {
    "name": "ipython",
    "version": 3
   },
   "file_extension": ".py",
   "mimetype": "text/x-python",
   "name": "python",
   "nbconvert_exporter": "python",
   "pygments_lexer": "ipython3",
   "version": "3.8.18"
  }
 },
 "nbformat": 4,
 "nbformat_minor": 2
}
