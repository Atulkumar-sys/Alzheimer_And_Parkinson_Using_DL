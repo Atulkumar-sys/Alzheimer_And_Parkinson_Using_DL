{
 "cells": [
  {
   "cell_type": "code",
   "execution_count": 1,
   "metadata": {},
   "outputs": [
    {
     "name": "stderr",
     "output_type": "stream",
     "text": [
      "Loading Training/AD images: 100%|██████████| 1098/1098 [00:00<00:00, 3847.09it/s]\n",
      "Loading test/AD images: 100%|██████████| 1098/1098 [00:00<00:00, 6557.54it/s]\n",
      "Loading Training/CONTROL images: 100%|██████████| 924/924 [00:00<00:00, 3014.07it/s]\n",
      "Loading test/CONTROL images: 100%|██████████| 924/924 [00:00<00:00, 4561.08it/s]\n",
      "Loading Training/PD images: 100%|██████████| 906/906 [00:00<00:00, 2224.37it/s]\n",
      "Loading test/PD images: 100%|██████████| 906/906 [00:00<00:00, 3226.30it/s]\n"
     ]
    },
    {
     "name": "stdout",
     "output_type": "stream",
     "text": [
      "Epoch 1/30\n",
      "149/149 [==============================] - ETA: 0s - loss: 0.4449 - accuracy: 0.8124\n",
      "Epoch 1: val_loss improved from inf to 0.73977, saving model to efficient_net_B3.h5\n"
     ]
    },
    {
     "name": "stderr",
     "output_type": "stream",
     "text": [
      "/Users/atulkumar/miniconda3/envs/mac/lib/python3.8/site-packages/keras/src/engine/training.py:3000: UserWarning: You are saving your model as an HDF5 file via `model.save()`. This file format is considered legacy. We recommend using instead the native Keras format, e.g. `model.save('my_model.keras')`.\n",
      "  saving_api.save_model(\n"
     ]
    },
    {
     "name": "stdout",
     "output_type": "stream",
     "text": [
      "149/149 [==============================] - 297s 2s/step - loss: 0.4449 - accuracy: 0.8124 - val_loss: 0.7398 - val_accuracy: 0.8539 - lr: 0.0010\n",
      "Epoch 2/30\n",
      "149/149 [==============================] - ETA: 0s - loss: 0.2189 - accuracy: 0.9224\n",
      "Epoch 2: val_loss improved from 0.73977 to 0.39933, saving model to efficient_net_B3.h5\n",
      "149/149 [==============================] - 275s 2s/step - loss: 0.2189 - accuracy: 0.9224 - val_loss: 0.3993 - val_accuracy: 0.8387 - lr: 0.0010\n",
      "Epoch 3/30\n",
      "149/149 [==============================] - ETA: 0s - loss: 0.1360 - accuracy: 0.9507\n",
      "Epoch 3: val_loss did not improve from 0.39933\n",
      "149/149 [==============================] - 261s 2s/step - loss: 0.1360 - accuracy: 0.9507 - val_loss: 0.7920 - val_accuracy: 0.5863 - lr: 0.0010\n",
      "Epoch 4/30\n",
      "149/149 [==============================] - ETA: 0s - loss: 0.0845 - accuracy: 0.9741\n",
      "Epoch 4: val_loss improved from 0.39933 to 0.09717, saving model to efficient_net_B3.h5\n",
      "149/149 [==============================] - 254s 2s/step - loss: 0.0845 - accuracy: 0.9741 - val_loss: 0.0972 - val_accuracy: 0.9602 - lr: 0.0010\n",
      "Epoch 5/30\n",
      "149/149 [==============================] - ETA: 0s - loss: 0.0743 - accuracy: 0.9760\n",
      "Epoch 5: val_loss did not improve from 0.09717\n",
      "149/149 [==============================] - 256s 2s/step - loss: 0.0743 - accuracy: 0.9760 - val_loss: 0.2519 - val_accuracy: 0.8975 - lr: 0.0010\n",
      "Epoch 6/30\n",
      "149/149 [==============================] - ETA: 0s - loss: 0.0584 - accuracy: 0.9798\n",
      "Epoch 6: val_loss did not improve from 0.09717\n",
      "\n",
      "Epoch 6: ReduceLROnPlateau reducing learning rate to 0.0003000000142492354.\n",
      "149/149 [==============================] - 254s 2s/step - loss: 0.0584 - accuracy: 0.9798 - val_loss: 0.1632 - val_accuracy: 0.9507 - lr: 0.0010\n",
      "Epoch 7/30\n",
      "149/149 [==============================] - ETA: 0s - loss: 0.0119 - accuracy: 0.9970\n",
      "Epoch 7: val_loss improved from 0.09717 to 0.03883, saving model to efficient_net_B3.h5\n",
      "149/149 [==============================] - 271s 2s/step - loss: 0.0119 - accuracy: 0.9970 - val_loss: 0.0388 - val_accuracy: 0.9924 - lr: 3.0000e-04\n",
      "Epoch 8/30\n",
      "149/149 [==============================] - ETA: 0s - loss: 0.0071 - accuracy: 0.9983\n",
      "Epoch 8: val_loss did not improve from 0.03883\n",
      "149/149 [==============================] - 262s 2s/step - loss: 0.0071 - accuracy: 0.9983 - val_loss: 0.0631 - val_accuracy: 0.9886 - lr: 3.0000e-04\n",
      "Epoch 9/30\n",
      "149/149 [==============================] - ETA: 0s - loss: 0.0326 - accuracy: 0.9907\n",
      "Epoch 9: val_loss did not improve from 0.03883\n",
      "\n",
      "Epoch 9: ReduceLROnPlateau reducing learning rate to 9.000000427477062e-05.\n",
      "149/149 [==============================] - 260s 2s/step - loss: 0.0326 - accuracy: 0.9907 - val_loss: 0.0394 - val_accuracy: 0.9924 - lr: 3.0000e-04\n",
      "Epoch 10/30\n",
      "149/149 [==============================] - ETA: 0s - loss: 0.0052 - accuracy: 0.9989\n",
      "Epoch 10: val_loss did not improve from 0.03883\n",
      "149/149 [==============================] - 277s 2s/step - loss: 0.0052 - accuracy: 0.9989 - val_loss: 0.0426 - val_accuracy: 0.9924 - lr: 9.0000e-05\n",
      "Epoch 11/30\n",
      "149/149 [==============================] - ETA: 0s - loss: 0.0030 - accuracy: 0.9996\n",
      "Epoch 11: val_loss did not improve from 0.03883\n",
      "\n",
      "Epoch 11: ReduceLROnPlateau reducing learning rate to 2.700000040931627e-05.\n",
      "149/149 [==============================] - 253s 2s/step - loss: 0.0030 - accuracy: 0.9996 - val_loss: 0.0477 - val_accuracy: 0.9924 - lr: 9.0000e-05\n",
      "Epoch 12/30\n",
      "149/149 [==============================] - ETA: 0s - loss: 0.0028 - accuracy: 0.9994\n",
      "Epoch 12: val_loss did not improve from 0.03883\n",
      "Restoring model weights from the end of the best epoch: 7.\n",
      "149/149 [==============================] - 254s 2s/step - loss: 0.0028 - accuracy: 0.9994 - val_loss: 0.0481 - val_accuracy: 0.9924 - lr: 2.7000e-05\n",
      "Epoch 12: early stopping\n"
     ]
    }
   ],
   "source": [
    "import os\n",
    "import cv2\n",
    "import numpy as np\n",
    "from tqdm import tqdm\n",
    "import seaborn as sns\n",
    "import matplotlib.pyplot as plt\n",
    "\n",
    "from sklearn.utils import shuffle\n",
    "from sklearn.model_selection import train_test_split\n",
    "from tensorflow.keras.utils import to_categorical\n",
    "\n",
    "from tensorflow.keras.applications import EfficientNetB3\n",
    "import tensorflow as tf\n",
    "from tensorflow.keras.callbacks import EarlyStopping, ReduceLROnPlateau, TensorBoard, ModelCheckpoint\n",
    "from tensorflow.keras.utils import plot_model\n",
    "\n",
    "# Constants\n",
    "labels = ['AD', 'CONTROL', 'PD']\n",
    "image_size = 150\n",
    "\n",
    "# Replace this line with the correct path to the root of your dataset\n",
    "dataset_path = 'Training/'\n",
    "\n",
    "# Load images and labels\n",
    "X = []\n",
    "Y = []\n",
    "\n",
    "for label in labels:\n",
    "    for subset in ['Training', 'test']:\n",
    "        subset_path = os.path.join(dataset_path, label)\n",
    "        for image_name in tqdm(os.listdir(subset_path), desc=f\"Loading {subset}/{label} images\"):\n",
    "            image_path = os.path.join(subset_path, image_name)\n",
    "            image = cv2.imread(image_path)\n",
    "            \n",
    "            # Skip if the image is not readable or invalid\n",
    "            if image is None or image.size == 0 or image.shape[0] == 0 or image.shape[1] == 0:\n",
    "                print(f\"Error or invalid image: {image_path}\")\n",
    "                continue\n",
    "            # ... rest of the code\n",
    "\n",
    "            \n",
    "            \n",
    "            image = cv2.resize(image, (image_size, image_size))\n",
    "            X.append(image)\n",
    "            Y.append(labels.index(label))\n",
    "\n",
    "X = np.array(X)\n",
    "Y = np.array(Y)\n",
    "\n",
    "# Shuffle and split the data\n",
    "X, Y = shuffle(X, Y, random_state=42)\n",
    "X_train, X_test, Y_train, Y_test = train_test_split(X, Y, test_size=0.1, random_state=42)\n",
    "\n",
    "# Convert labels to one-hot encoding\n",
    "y_train_new = to_categorical(Y_train, len(labels))\n",
    "y_test_new = to_categorical(Y_test, len(labels))\n",
    "\n",
    "# Create EfficientNetB3 model\n",
    "efficientnet_B3 = EfficientNetB3(include_top=False,\n",
    "                                weights='imagenet',\n",
    "                                input_shape=(image_size, image_size, 3))\n",
    "\n",
    "model = efficientnet_B3.output\n",
    "model = tf.keras.layers.GlobalAveragePooling2D()(model)\n",
    "model = tf.keras.layers.Dropout(0.5)(model)\n",
    "model = tf.keras.layers.Dense(len(labels), activation='softmax')(model)\n",
    "\n",
    "model = tf.keras.models.Model(inputs=efficientnet_B3.input, outputs=model)\n",
    "\n",
    "# Compile the model\n",
    "model.compile(optimizer='adam',\n",
    "              loss='categorical_crossentropy',\n",
    "              metrics=['accuracy'])\n",
    "\n",
    "# Define callbacks\n",
    "tensorBoard = TensorBoard(log_dir=\"logs\")\n",
    "checkPoint = ModelCheckpoint(\"efficient_net_B3.h5\",\n",
    "                             monitor='val_loss',\n",
    "                             verbose=1,\n",
    "                             save_best_only=True,\n",
    "                             mode='auto')\n",
    "reduce_lr = ReduceLROnPlateau(monitor='val_loss',\n",
    "                              factor=0.3,\n",
    "                              patience=2,\n",
    "                              verbose=1,\n",
    "                              mode='auto',\n",
    "                              min_delta=0.001)\n",
    "es = EarlyStopping(monitor='val_loss',\n",
    "                   patience=5,\n",
    "                   verbose=1,\n",
    "                   mode='auto',\n",
    "                   restore_best_weights=True)\n",
    "\n",
    "# Train the model\n",
    "history = model.fit(X_train,\n",
    "                    y_train_new,\n",
    "                    batch_size=32,\n",
    "                    validation_split=0.1,\n",
    "                    epochs=30,\n",
    "                    verbose=1,\n",
    "                    callbacks=[tensorBoard, checkPoint, reduce_lr, es])\n",
    "\n"
   ]
  },
  {
   "cell_type": "code",
   "execution_count": 3,
   "metadata": {},
   "outputs": [
    {
     "name": "stdout",
     "output_type": "stream",
     "text": [
      "19/19 [==============================] - 6s 329ms/step\n",
      "              precision    recall  f1-score   support\n",
      "\n",
      "           0       1.00      1.00      1.00       213\n",
      "           1       1.00      1.00      1.00       181\n",
      "           2       1.00      1.00      1.00       192\n",
      "\n",
      "    accuracy                           1.00       586\n",
      "   macro avg       1.00      1.00      1.00       586\n",
      "weighted avg       1.00      1.00      1.00       586\n",
      "\n"
     ]
    },
    {
     "data": {
      "image/png": "[encoded data removed]",
      "text/plain": [
       "<Figure size 560x420 with 2 Axes>"
      ]
     },
     "metadata": {},
     "output_type": "display_data"
    },
    {
     "name": "stderr",
     "output_type": "stream",
     "text": [
      "/Users/atulkumar/miniconda3/envs/mac/lib/python3.8/site-packages/keras/src/engine/training.py:3000: UserWarning: You are saving your model as an HDF5 file via `model.save()`. This file format is considered legacy. We recommend using instead the native Keras format, e.g. `model.save('my_model.keras')`.\n",
      "  saving_api.save_model(\n"
     ]
    },
    {
     "name": "stdout",
     "output_type": "stream",
     "text": [
      "You must install pydot (`pip install pydot`) and install graphviz (see instructions at https://graphviz.gitlab.io/download/) for plot_model to work.\n"
     ]
    }
   ],
   "source": [
    "from sklearn.metrics import classification_report\n",
    "from sklearn.metrics import confusion_matrix\n",
    "# Evaluate the model\n",
    "pred = model.predict(X_test)\n",
    "pred = np.argmax(pred, axis=1)\n",
    "actual_label = np.argmax(y_test_new, axis=1)\n",
    "print(classification_report(actual_label, pred))\n",
    "\n",
    "# Confusion matrix\n",
    "cnf = confusion_matrix(actual_label, pred)\n",
    "plt.figure(figsize=(8, 6), dpi=70, facecolor='w', edgecolor='k')\n",
    "ax = sns.heatmap(cnf, cmap='Blues', annot=True, fmt='d', xticklabels=labels, yticklabels=labels)\n",
    "plt.title('Alzheimer\\'s Disease Classification')\n",
    "plt.xlabel('Prediction')\n",
    "plt.ylabel('Ground Truth')\n",
    "plt.show(ax)\n",
    "\n",
    "# Save and load the model\n",
    "saved_model_path = \"./efficient_net_B3.h5\"\n",
    "model.save(saved_model_path)\n",
    "\n",
    "saved_model = tf.keras.models.load_model(saved_model_path)\n",
    "\n",
    "\n"
   ]
  }
 ],
 "metadata": {
  "kernelspec": {
   "display_name": "mac",
   "language": "python",
   "name": "python3"
  },
  "language_info": {
   "codemirror_mode": {
    "name": "ipython",
    "version": 3
   },
   "file_extension": ".py",
   "mimetype": "text/x-python",
   "name": "python",
   "nbconvert_exporter": "python",
   "pygments_lexer": "ipython3",
   "version": "3.8.18"
  }
 },
 "nbformat": 4,
 "nbformat_minor": 2
}
